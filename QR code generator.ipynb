{
 "cells": [
  {
   "cell_type": "code",
   "execution_count": 1,
   "id": "7c71dc65",
   "metadata": {},
   "outputs": [],
   "source": [
    "# import the necessary libraries and modules\n",
    "\n",
    "import pyqrcode\n",
    "import png\n",
    "from PIL import ImageTk, Image\n",
    "from pyqrcode import QRCode\n",
    "import tkinter as tk\n",
    "from tkinter import *\n",
    "import PIL.Image"
   ]
  },
  {
   "cell_type": "code",
   "execution_count": 2,
   "id": "dd15176c",
   "metadata": {},
   "outputs": [],
   "source": [
    "# Create the window\n",
    "\n",
    "window = Tk()  \n",
    "window.geometry('500x500')\n",
    "window.title('QR code generator')\n",
    " \n",
    "Label(window,text='Please input the website in the following textbox',font='arial 15').pack()\n",
    "\n",
    "# String which represents the QR code\n",
    "s = tk.StringVar()"
   ]
  },
  {
   "cell_type": "code",
   "execution_count": 3,
   "id": "be093137",
   "metadata": {},
   "outputs": [],
   "source": [
    "# The function to create QR code\n",
    "\n",
    "def create_qrcode():\n",
    "    s1 = s.get()\n",
    "    qr = pyqrcode.create(s1)\n",
    "    qr.png('QRcode.png', scale = 6)\n",
    "    Label(window,text='The QR Code is created and saved successfully as QRcode.png').pack()\n",
    "    \n",
    "# Creat the button and the input textbox\n",
    "\n",
    "Entry(window,textvariable = s, font = 'arial 15').pack()\n",
    "Button(window,text = 'create', bg = 'red' , command = create_qrcode).pack()"
   ]
  },
  {
   "cell_type": "code",
   "execution_count": 4,
   "id": "867657c6",
   "metadata": {},
   "outputs": [],
   "source": [
    "# Display the window\n",
    "window.mainloop()"
   ]
  }
 ],
 "metadata": {
  "kernelspec": {
   "display_name": "Python 3 (ipykernel)",
   "language": "python",
   "name": "python3"
  },
  "language_info": {
   "codemirror_mode": {
    "name": "ipython",
    "version": 3
   },
   "file_extension": ".py",
   "mimetype": "text/x-python",
   "name": "python",
   "nbconvert_exporter": "python",
   "pygments_lexer": "ipython3",
   "version": "3.11.5"
  }
 },
 "nbformat": 4,
 "nbformat_minor": 5
}
